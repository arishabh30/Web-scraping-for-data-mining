{
 "cells": [
  {
   "cell_type": "code",
   "execution_count": 1,
   "metadata": {},
   "outputs": [
    {
     "name": "stderr",
     "output_type": "stream",
     "text": [
      "C:\\Users\\rishu\\AppData\\Local\\Temp\\ipykernel_9860\\1946448513.py:18: DeprecationWarning: use options instead of chrome_options\n",
      "  driver = webdriver.Chrome(\"C:\\\\Users\\\\rishu\\\\chromedriver.exe\", chrome_options=options)   #replace the file path by the address of chromedriver in your system\n"
     ]
    }
   ],
   "source": [
    "# to download the research paper to the current working directory\n",
    "\n",
    "from selenium import webdriver\n",
    "from selenium.webdriver.common.keys import Keys\n",
    "from selenium.webdriver.common.by import By\n",
    "\n",
    "\n",
    "url = \"https://pubs.acs.org/doi/pdf/10.1021/acsnano.9b06394\"\n",
    "\n",
    "import os\n",
    "options = webdriver.ChromeOptions()\n",
    "options.add_experimental_option('prefs', {\n",
    "\"download.default_directory\": os.getcwd(), #downloads the file into the current working directory\n",
    "\"download.prompt_for_download\": False, #To auto download the file\n",
    "\"download.directory_upgrade\": True,\n",
    "\"plugins.always_open_pdf_externally\": True #It will not show PDF directly in chrome \n",
    "})\n",
    "driver = webdriver.Chrome(\"C:\\\\Users\\\\rishu\\\\chromedriver.exe\", chrome_options=options)   #replace the file path by the address of chromedriver in your system\n",
    "\n",
    "driver.get(url)"
   ]
  },
  {
   "cell_type": "code",
   "execution_count": 7,
   "metadata": {},
   "outputs": [
    {
     "name": "stdout",
     "output_type": "stream",
     "text": [
      "['1399374.pdf', '200789_Rishabh Agrawal_ResearchPaperScraped.ipynb', 'acsnano.5b05040.pdf', 'acsnano.6b06087.pdf', 'acsnano.9b06394.pdf', 'task1.ipynb', 'task1_1.ipynb']\n"
     ]
    }
   ],
   "source": [
    "ls = os.listdir()\n",
    "print(ls)"
   ]
  },
  {
   "cell_type": "code",
   "execution_count": 8,
   "metadata": {},
   "outputs": [
    {
     "name": "stdout",
     "output_type": "stream",
     "text": [
      "acsnano.9b06394.pdf\n"
     ]
    }
   ],
   "source": [
    "current_pdf = ls[4]\n",
    "print(current_pdf)"
   ]
  },
  {
   "cell_type": "code",
   "execution_count": 9,
   "metadata": {},
   "outputs": [
    {
     "name": "stdout",
     "output_type": "stream",
     "text": [
      "4\n"
     ]
    }
   ],
   "source": [
    "import PyPDF2\n",
    "\n",
    "pdfFileObj = open(current_pdf, \"rb\")\n",
    "\n",
    "pdfReader = PyPDF2.PdfFileReader(pdfFileObj)\n",
    "\n",
    "count = pdfReader.numPages\n",
    "\n",
    "print(count)"
   ]
  },
  {
   "cell_type": "code",
   "execution_count": 10,
   "metadata": {},
   "outputs": [
    {
     "name": "stdout",
     "output_type": "stream",
     "text": [
      "To date, more than 70% of all MXene research has focused on theﬁrst discovered MXene, Ti 3C 2T x. The exploration of this MXene is so extensive that, for many researchers, the name MXene has become synonymous with Ti 3C 2T x, and they use it without specifying the composition, which can be confusing as there are numerous structures and compositions of MXenes. At least 100 stoichiometric MXene compositions and a limitless number of solid solutions oﬀer not only unique combinations of properties but also a way to tune them by varying ratios of M or X elements. The large, underexplored family of MXenes and their unique combination of properties opens the door to a variety of diﬀerent applications, and the possibilities of new compositions make us believe that we are still in the early days of MXene research and many exciting discoveries are to come.   Yury Gogotsi,*Associate Editor   Babak Anasori*  Indiana University−Purdue University Indianapolis ■AUTHOR INFORMATION Corresponding Authors *E-mail:gogotsi@drexel.edu. *E-mail:banasori@iupui.edu. ORCID  Yury Gogotsi:0000-0001-9423-4032 Babak Anasori:0000-0002-1955-253X Notes Views expressed in this editorial are those of the authors and not necessarily the views of the ACS. ■ACKNOWLEDGMENTS Y.G. would like to thank the U.S. Department of Energy for continuous funding of his research on MXenes from the initial discovery (Assistant Secretary for Energy Eﬃciency and Renewable Energy, Oﬃce of Vehicle Technologies under Contract No. DE-AC02-05CH11231, subcontract 6951370 under the Batteries for Advanced Transportation Technologies (BATT) Program) to exploration of energy-related applications viathe Fluid Interface Reactions, Structures and Transport (FIRST) Center, an Energy Frontier Research Center funded by the Oﬃce of Science, Oﬃce of Basic Energy Sciences. Research of Y.G. and B.A. on fundamental properties of MXenes is currently supported by the U.S. Department of Energy, Oﬃce of Science, Oﬃce of Basic Energy Sciences, under Grant No. DE- SC0018618. ■REFERENCES (1) Zhang, H. Ultrathin Two-Dimensional Nanomaterials.ACS Nano 2015,9, 9451−9469. (2) Wee, A. T. S.; Hersam, M. C.; Chhowalla, M.; Gogotsi, Y. An Update from Flatland.ACS Nano2016,10, 8121−8123.(3) Anasori, B.; Lukatskaya, M. R.; Gogotsi, Y. 2D Metal Carbides and Nitrides (MXenes) for Energy Storage.Nat. Rev. Mater.2017,2, 16098. (4) Seijo, B. C. 2019: The Year the Periodic Table Gets Its Due. C&EN2019,97,24−25. (5) Anasori, B.; Gogotsi, Y.2D Metal Carbides and Nitrides (MXenes), Structure, Properties and Applications; Springer: Berlin, 2019. (6) Naguib, M.; Kurtoglu, M.; Presser, V.; Lu, J.; Niu, J.; Heon, M.; Hultman, L.; Gogotsi, Y.; Barsoum, M. W. Two-Dimensional Nanocrystals Produced by Exfoliation of Ti3AlC 2.Adv. Mater.2011, 23, 4248−4253. (7) Anasori, B.; Xie, Y.; Beidaghi, M.; Lu, J.; Hosler, B. C.; Hultman, L.; Kent, P. R. C.; Gogotsi, Y.; Barsoum, M. W. Two-Dimensional, Ordered, Double Transition Metals Carbides (MXenes).ACS Nano 2015,9, 9507−9516. (8) Tao, Q.; Lu, J.; Dahlqvist, M.; Mockute, A.; Calder, S.; Petruhins, A.; Meshkian, R.; Rivin, O.; Potashnikov, D.; Caspi, E. a. N.; Shaked, H.; Hoser, A.; Opagiste, C.; Galera, R.-M.; Salikhov, R.; Wiedwald, U.; Ritter, C.; Wildes, A. R.; Johansson, B.; Hultman, L.; Farle, M.; Barsoum, M. W.; Rosen, J. Atomically Layered and Ordered Rare-Earth i-MAX Phases: A New Class of Magnetic Quaternary Compounds. Chem. Mater.2019,31, 2476−2485. (9) Petruhins, A.; Lu, J.; Hultman, L.; Rosen, J. Synthesis of Atomically Layered and Chemically Ordered Rare-Earth (RE) i-MAX Phases; (Mo 2/3RE 1/3) 2GaC with RE= Gd, Tb, Dy, Ho, Er, Tm, Yb, and Lu.Mater. Res. Lett.2019,7, 446−452. (10) Dahlqvist, M.; Lu, J.; Meshkian, R.; Tao, Q.; Hultman, L.; Rosen, J. Prediction and Synthesis of a Family of Atomic Laminate Phases with Kagome   ́ -Like and In-Plane Chemical Ordering.Sci. Adv.2017,3, No. e1700642. (11) Ashton, M.; Hennig, R. G.; Broderick, S. R.; Rajan, K.; Sinnott, S. B. Computational Discovery of Stable M 2AX Phases.Phys. Rev. B: Condens. Matter Mater. Phys.2016,94, 054116. (12) Dahlqvist, M.; Petruhins, A.; Lu, J.; Hultman, L.; Rosen, J. The Origin of Chemically Ordered Atomic Laminates (i-MAX); Expanding the Elemental Space by a Theoretical/Experimental Approach.ACS Nano2018,12, 7761−7770. (13) Rajan, A. C.; Mishra, A.; Satsangi, S.; Vaish, R.; Mizuseki, H.; Lee, K.-R.; Singh, A. K. Machine-Learning Assisted Accurate Band Gap Predictions of Functionalized MXene.Chem. Mater.2018,30, 4031− 4038. (14) Frey, N. C.; Wang, J.; Vega Bellido, G. I. n.; Anasori, B.; Gogotsi, Y.; Shenoy, V. B. Prediction of Synthesis of 2D Metal Carbides and Nitrides (MXenes) and their Precursors with Positive and Unlabeled Machine Learning.ACS Nano2019,13, 3031−3041. (15) Sun, W.; Shah, S.; Chen, Y.; Tan, Z.; Gao, H.; Habib, T.; Radovic, M.; Green, M. Electrochemical Etching of Ti 2AlC to Ti 2CT x(MXene) in Low-Concentration Hydrochloric Acid Solution.J. Mater. Chem. A 2017,5, 21663−21668. (16) Li, M.; Lu, J.; Luo, K.; Li, Y.; Chang, K.; Chen, K.; Zhou, J.; Rosen, J.; Hultman, L.; Eklund, P.; Persson, P. O. Å.; Du, S.; Chai, Z.; Huang, Z.; Huang, Q. An Element Replacement Approach by Reaction with Lewis Acidic Molten Salts To Synthesize Nanolaminated MAX Phases and MXenes.J. Am. Chem. Soc.2019,141, 4730−4737. (17) Cheng, L.; Wang, X.; Gong, F.; Liu, T.; Liu, Z. 2D Nanomaterials for Cancer Theranostic Applications.Adv. Mater.2019, 1902333. (18) Sarycheva, A.; Polemi, A.; Liu, Y.; Dandekar, K.; Anasori, B.; Gogotsi, Y. 2D Titanium Carbide (MXene) for Wireless Communi- cation.Sci. Adv.2018,4, No. eaau0920. ACS Nano Editorial DOI:10.1021/acsnano.9b06394 ACS Nano2019, 13, 8491−84948494    \n"
     ]
    }
   ],
   "source": [
    "# to get the details of reference 5\n",
    "\n",
    "pageObj = pdfReader.getPage(count-1)\n",
    "\n",
    "page = pageObj.extract_text()\n",
    "\n",
    "print(page.replace('\\n',\" \"))\n"
   ]
  },
  {
   "cell_type": "code",
   "execution_count": null,
   "metadata": {},
   "outputs": [
    {
     "name": "stdout",
     "output_type": "stream",
     "text": [
      "[]\n"
     ]
    }
   ],
   "source": [
    "import re\n",
    "\n",
    "y = re.findall(\"\", page)\n",
    "\n",
    "print(y)\n",
    "\n"
   ]
  },
  {
   "cell_type": "code",
   "execution_count": null,
   "metadata": {},
   "outputs": [],
   "source": [
    "pdfFileObj.close()"
   ]
  },
  {
   "cell_type": "code",
   "execution_count": null,
   "metadata": {},
   "outputs": [],
   "source": [
    "# import re\n",
    "\n",
    "# index = 0\n",
    "\n",
    "# for i in range(count):\n",
    "\n",
    "\n",
    "#     pageObj = pdfReader.getPage(i)\n",
    "    \n",
    "#     page = pageObj.extractText()\n",
    "\n",
    "#     print(page)\n",
    "\n",
    "# pdfFileObj.close()"
   ]
  },
  {
   "cell_type": "code",
   "execution_count": null,
   "metadata": {},
   "outputs": [],
   "source": []
  }
 ],
 "metadata": {
  "kernelspec": {
   "display_name": "Python 3.9.12 ('base')",
   "language": "python",
   "name": "python3"
  },
  "language_info": {
   "codemirror_mode": {
    "name": "ipython",
    "version": 3
   },
   "file_extension": ".py",
   "mimetype": "text/x-python",
   "name": "python",
   "nbconvert_exporter": "python",
   "pygments_lexer": "ipython3",
   "version": "3.9.12"
  },
  "orig_nbformat": 4,
  "vscode": {
   "interpreter": {
    "hash": "0583c23a2589197f18883e3ee639618d340320ccc39649f7b161d96ac23f3177"
   }
  }
 },
 "nbformat": 4,
 "nbformat_minor": 2
}
