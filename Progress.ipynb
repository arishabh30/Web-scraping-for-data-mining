{
 "cells": [
  {
   "cell_type": "code",
   "execution_count": 26,
   "metadata": {},
   "outputs": [],
   "source": [
    "from bs4 import BeautifulSoup\n",
    "import requests\n",
    "from selenium import webdriver\n",
    "from selenium.webdriver.common.keys import Keys\n",
    "from selenium.webdriver.common.by import By\n",
    "from selenium.webdriver.support.ui import WebDriverWait\n",
    "from selenium.webdriver.support import expected_conditions as EC\n",
    "import time\n",
    "import re"
   ]
  },
  {
   "cell_type": "code",
   "execution_count": 27,
   "metadata": {},
   "outputs": [],
   "source": [
    "def gettingUrl(url):\n",
    "\n",
    "    driver = webdriver.Chrome(\"/usr/bin/chromedriver\")  #replace the file path by the address of chromedriver in your system\n",
    "    driver.get(url)\n",
    "    time.sleep(5)\n",
    "    \n",
    "    html = driver.page_source\n",
    "    #this renders the JS code and stores all of this information in static HTMl code.\n",
    "    return html"
   ]
  },
  {
   "cell_type": "code",
   "execution_count": 28,
   "metadata": {},
   "outputs": [
    {
     "name": "stderr",
     "output_type": "stream",
     "text": [
      "/tmp/ipykernel_30147/3389595816.py:3: DeprecationWarning: executable_path has been deprecated, please pass in a Service object\n",
      "  driver = webdriver.Chrome(\"/usr/bin/chromedriver\")  #replace the file path by the address of chromedriver in your system\n"
     ]
    }
   ],
   "source": [
    "#extracting data from acs nano site\n",
    "html = gettingUrl(\"https://pubs.acs.org/doi/10.1021/acsnano.9b06394\")"
   ]
  },
  {
   "cell_type": "code",
   "execution_count": 29,
   "metadata": {},
   "outputs": [],
   "source": [
    "# #to find out the details of the research paper 5\n",
    "# soup = BeautifulSoup(html, 'lxml')\n",
    "# paperNames = soup.find_all('span',class_ = 'NLM_article-title')\n",
    "# for paper in paperNames:\n",
    "#     print(paper.text)"
   ]
  },
  {
   "cell_type": "code",
   "execution_count": 30,
   "metadata": {},
   "outputs": [],
   "source": [
    "# for paper in paperNames:\n",
    "#     print(paper.text)"
   ]
  },
  {
   "cell_type": "code",
   "execution_count": 31,
   "metadata": {},
   "outputs": [
    {
     "name": "stdout",
     "output_type": "stream",
     "text": [
      "6\n"
     ]
    }
   ],
   "source": [
    "#finding out the number of times the research paper number 5 is mentioned in the text.\n",
    "soup_new = BeautifulSoup(html,'lxml')  #creating an instance of the BeautifulSoup library\n",
    "a_tags = soup_new.find('div', class_=\"article_content-left ui-resizable\")\n",
    "count = a_tags.find_all('a',class_=\"ref5\")\n",
    "print(len(count))\n",
    "\n",
    "# index = 0\n",
    "\n",
    "# for i in count:\n",
    "#     data  = i.text\n",
    "#     print(i)\n",
    "#     dataextract = re.findall('(\\(5)',data)\n",
    "#     if(dataextract):\n",
    "#         # print(dataextract)\n",
    "#         index = index + 1\n",
    "\n",
    "# # print(index)\n",
    "        \n",
    "\n"
   ]
  },
  {
   "cell_type": "code",
   "execution_count": 32,
   "metadata": {},
   "outputs": [],
   "source": [
    "soup2 = BeautifulSoup(html,'lxml')  #creating an instance of the BeautifulSoup library\n",
    "links = soup2.find('div', class_=\"article_content-left ui-resizable\")\n",
    "paperLinksgoogleScholar=links.find_all('a',class_=\"google-scholar\")  # creating a list containing the google scholar links for all the reference papers."
   ]
  },
  {
   "cell_type": "code",
   "execution_count": 33,
   "metadata": {},
   "outputs": [],
   "source": [
    "index=0\n",
    "scholarLinks=[]\n",
    "for link in paperLinksgoogleScholar:\n",
    "    scholarLinks.append(link['href'])   #A new list containing the google scholar links for only the first three papers is created. \n",
    "    index=index+1"
   ]
  },
  {
   "cell_type": "code",
   "execution_count": 34,
   "metadata": {},
   "outputs": [
    {
     "name": "stdout",
     "output_type": "stream",
     "text": [
      "http://scholar.google.com/scholar_lookup?hl=en&volume=9&publication_year=2015&pages=9451-9469&author=H.+Zhang&title=Ultrathin+Two-Dimensional+Nanomaterials&doi=10.1021%2Facsnano.5b05040\n",
      "http://scholar.google.com/scholar_lookup?hl=en&volume=10&publication_year=2016&pages=8121-8123&author=A.+T.+S.+Weeauthor=M.+C.+Hersamauthor=M.+Chhowallaauthor=Y.+Gogotsi&title=An+Update+from+Flatland&doi=10.1021%2Facsnano.6b06087\n",
      "http://scholar.google.com/scholar_lookup?hl=en&volume=2&publication_year=2017&pages=16098&author=B.+Anasoriauthor=M.+R.+Lukatskayaauthor=Y.+Gogotsi&title=2D+Metal+Carbides+and+Nitrides+%28MXenes%29+for+Energy+Storage&doi=10.1038%2Fnatrevmats.2016.98\n",
      "http://scholar.google.com/scholar_lookup?hl=en&volume=97&publication_year=2019&pages=24-25&author=B.+C.+Seijo&title=2019%3A+The+Year+the+Periodic+Table+Gets+Its+Due&doi=10.1021%2Fcen-09701-feature8\n",
      "http://scholar.google.com/scholar_lookup?hl=en&publication_year=2019&author=B.+Anasori&author=Y.+Gogotsi&title=2D+Metal+Carbides+and+Nitrides+%28MXenes%29%2C+Structure%2C+Properties+and+Applications\n",
      "http://scholar.google.com/scholar_lookup?hl=en&volume=23&publication_year=2011&pages=4248-4253&author=M.+Naguibauthor=M.+Kurtogluauthor=V.+Presserauthor=J.+Luauthor=J.+Niuauthor=M.+Heonauthor=L.+Hultmanauthor=Y.+Gogotsiauthor=M.+W.+Barsoum&title=Two-Dimensional+Nanocrystals+Produced+by+Exfoliation+of+Ti3AlC2&doi=10.1002%2Fadma.201102306\n",
      "http://scholar.google.com/scholar_lookup?hl=en&volume=9&publication_year=2015&pages=9507-9516&author=B.+Anasoriauthor=Y.+Xieauthor=M.+Beidaghiauthor=J.+Luauthor=B.+C.+Hoslerauthor=L.+Hultmanauthor=P.+R.+C.+Kentauthor=Y.+Gogotsiauthor=M.+W.+Barsoum&title=Two-Dimensional%2C+Ordered%2C+Double+Transition+Metals+Carbides+%28MXenes%29&doi=10.1021%2Facsnano.5b03591\n",
      "http://scholar.google.com/scholar_lookup?hl=en&volume=31&publication_year=2019&pages=2476-2485&author=Q.+Taoauthor=J.+Luauthor=M.+Dahlqvistauthor=A.+Mockuteauthor=S.+Calderauthor=A.+Petruhinsauthor=R.+Meshkianauthor=O.+Rivinauthor=D.+Potashnikovauthor=E.+a.+N.+Caspiauthor=H.+Shakedauthor=A.+Hoserauthor=C.+Opagisteauthor=R.-M.+Galeraauthor=R.+Salikhovauthor=U.+Wiedwaldauthor=C.+Ritterauthor=A.+R.+Wildesauthor=B.+Johanssonauthor=L.+Hultmanauthor=M.+Farleauthor=M.+W.+Barsoumauthor=J.+Rosen&title=Atomically+Layered+and+Ordered+Rare-Earth+i-MAX+Phases%3A+A+New+Class+of+Magnetic+Quaternary+Compounds&doi=10.1021%2Facs.chemmater.8b05298\n",
      "http://scholar.google.com/scholar_lookup?hl=en&volume=7&publication_year=2019&pages=446-452&author=A.+Petruhinsauthor=J.+Luauthor=L.+Hultmanauthor=J.+Rosen&title=Synthesis+of+Atomically+Layered+and+Chemically+Ordered+Rare-Earth+%28RE%29+i-MAX+Phases%3B+%28Mo2%2F3RE1%2F3%292GaC+with+RE%3D+Gd%2C+Tb%2C+Dy%2C+Ho%2C+Er%2C+Tm%2C+Yb%2C+and+Lu&doi=10.1080%2F21663831.2019.1644684\n",
      "http://scholar.google.com/scholar_lookup?hl=en&volume=3&publication_year=2017&author=M.+Dahlqvistauthor=J.+Luauthor=R.+Meshkianauthor=Q.+Taoauthor=L.+Hultmanauthor=J.+Rosen&title=Prediction+and+Synthesis+of+a+Family+of+Atomic+Laminate+Phases+with+Kagom%C3%A9-Like+and+In-Plane+Chemical+Ordering&doi=10.1126%2Fsciadv.1700642\n",
      "http://scholar.google.com/scholar_lookup?hl=en&volume=94&publication_year=2016&pages=054116&author=M.+Ashtonauthor=R.+G.+Hennigauthor=S.+R.+Broderickauthor=K.+Rajanauthor=S.+B.+Sinnott&title=Computational+Discovery+of+Stable+M2AX+Phases&doi=10.1103%2FPhysRevB.94.054116\n",
      "http://scholar.google.com/scholar_lookup?hl=en&volume=12&publication_year=2018&pages=7761-7770&author=M.+Dahlqvistauthor=A.+Petruhinsauthor=J.+Luauthor=L.+Hultmanauthor=J.+Rosen&title=The+Origin+of+Chemically+Ordered+Atomic+Laminates+%28i-MAX%29%3B+Expanding+the+Elemental+Space+by+a+Theoretical%2FExperimental+Approach&doi=10.1021%2Facsnano.8b01774\n",
      "http://scholar.google.com/scholar_lookup?hl=en&volume=30&publication_year=2018&pages=4031-4038&author=A.+C.+Rajanauthor=A.+Mishraauthor=S.+Satsangiauthor=R.+Vaishauthor=H.+Mizusekiauthor=K.-R.+Leeauthor=A.+K.+Singh&title=Machine-Learning+Assisted+Accurate+Band+Gap+Predictions+of+Functionalized+MXene&doi=10.1021%2Facs.chemmater.8b00686\n",
      "http://scholar.google.com/scholar_lookup?hl=en&volume=13&publication_year=2019&pages=3031-3041&author=N.+C.+Freyauthor=J.+Wangauthor=G.+I.+n.+Vega+Bellidoauthor=B.+Anasoriauthor=Y.+Gogotsiauthor=V.+B.+Shenoy&title=Prediction+of+Synthesis+of+2D+Metal+Carbides+and+Nitrides+%28MXenes%29+and+their+Precursors+with+Positive+and+Unlabeled+Machine+Learning&doi=10.1021%2Facsnano.8b08014\n",
      "http://scholar.google.com/scholar_lookup?hl=en&volume=5&publication_year=2017&pages=21663-21668&author=W.+Sunauthor=S.+Shahauthor=Y.+Chenauthor=Z.+Tanauthor=H.+Gaoauthor=T.+Habibauthor=M.+Radovicauthor=M.+Green&title=Electrochemical+Etching+of+Ti2AlC+to+Ti2CTx+%28MXene%29+in+Low-Concentration+Hydrochloric+Acid+Solution&doi=10.1039%2FC7TA05574A\n",
      "http://scholar.google.com/scholar_lookup?hl=en&volume=141&publication_year=2019&pages=4730-4737&author=M.+Liauthor=J.+Luauthor=K.+Luoauthor=Y.+Liauthor=K.+Changauthor=K.+Chenauthor=J.+Zhouauthor=J.+Rosenauthor=L.+Hultmanauthor=P.+Eklundauthor=P.+O.+%C3%85.+Perssonauthor=S.+Duauthor=Z.+Chaiauthor=Z.+Huangauthor=Q.+Huang&title=An+Element+Replacement+Approach+by+Reaction+with+Lewis+Acidic+Molten+Salts+To+Synthesize+Nanolaminated+MAX+Phases+and+MXenes&doi=10.1021%2Fjacs.9b00574\n",
      "http://scholar.google.com/scholar_lookup?hl=en&publication_year=2019&pages=1902333&author=L.+Chengauthor=X.+Wangauthor=F.+Gongauthor=T.+Liuauthor=Z.+Liu&title=2D+Nanomaterials+for+Cancer+Theranostic+Applications&doi=10.1002%2Fadma.201902333\n",
      "http://scholar.google.com/scholar_lookup?hl=en&volume=4&publication_year=2018&author=A.+Sarychevaauthor=A.+Polemiauthor=Y.+Liuauthor=K.+Dandekarauthor=B.+Anasoriauthor=Y.+Gogotsi&title=2D+Titanium+Carbide+%28MXene%29+for+Wireless+Communication&doi=10.1126%2Fsciadv.aau0920\n"
     ]
    }
   ],
   "source": [
    "for link in scholarLinks:\n",
    "    print(link)"
   ]
  },
  {
   "cell_type": "code",
   "execution_count": 35,
   "metadata": {},
   "outputs": [],
   "source": [
    "# for link in paperLinks:\n",
    "#     driver.get(link)\n",
    "#     driver.find_element(By.XPATH, value='//*[@id=\"gs_res_ccl_mid\"]/div/div[2]/div[3]/a[2]').click()    \n",
    "    \n"
   ]
  },
  {
   "cell_type": "code",
   "execution_count": 36,
   "metadata": {},
   "outputs": [
    {
     "name": "stderr",
     "output_type": "stream",
     "text": [
      "/tmp/ipykernel_30147/3389595816.py:3: DeprecationWarning: executable_path has been deprecated, please pass in a Service object\n",
      "  driver = webdriver.Chrome(\"/usr/bin/chromedriver\")  #replace the file path by the address of chromedriver in your system\n"
     ]
    },
    {
     "name": "stdout",
     "output_type": "stream",
     "text": [
      "ATS Wee\n",
      "MC Hersam\n",
      "M Chhowalla\n"
     ]
    }
   ],
   "source": [
    "html = gettingUrl(scholarLinks[1])\n",
    "soup3 = BeautifulSoup(html,'lxml')  #creating an instance of the BeautifulSoup library\n",
    "content = soup3.find('div', class_=\"gs_a\")\n",
    "authors = content.find_all('a')\n",
    "# print(authors)\n",
    "for author in authors:\n",
    "    print(author.text)"
   ]
  },
  {
   "cell_type": "code",
   "execution_count": 37,
   "metadata": {},
   "outputs": [
    {
     "name": "stdout",
     "output_type": "stream",
     "text": [
      "ACS Publications\n"
     ]
    }
   ],
   "source": [
    "#to find the publication house name of the referenced paper from google scholar.\n",
    "\n",
    "name = content.text\n",
    "# print(name)\n",
    "\n",
    "if \"science\" in name:\n",
    "    print(\"science\")\n",
    "elif 'Wiley' in name:\n",
    "    print(\"wiley\")\n",
    "elif 'nature' in name:\n",
    "    print(\"nature\")\n",
    "elif 'sciencedirect' in name:\n",
    "    print(\"sciencedirect\")\n",
    "elif 'Springer' in name:\n",
    "    print(\"Springer\")\n",
    "elif 'Elsevier' in name:\n",
    "    print(\"Elsevier\")\n",
    "elif 'mdpi' in name:\n",
    "    print(\"mdpi\")\n",
    "elif 'ACS Publications' in name:\n",
    "    print(\"ACS Publications\")\n",
    "elif 'ieee' in name:\n",
    "    print(\"ieee\")\n",
    "else:\n",
    "    print(\"other\")"
   ]
  },
  {
   "cell_type": "code",
   "execution_count": 38,
   "metadata": {},
   "outputs": [
    {
     "name": "stdout",
     "output_type": "stream",
     "text": [
      "https://pubs.acs.org/doi/full/10.1021/acsnano.6b06087\n"
     ]
    }
   ],
   "source": [
    "#finding out the publication house link of the paper from google scholar.\n",
    "paperLink = soup3.find('h3',class_ = 'gs_rt')\n",
    "print(paperLink.a['href'])"
   ]
  },
  {
   "cell_type": "code",
   "execution_count": 40,
   "metadata": {},
   "outputs": [
    {
     "name": "stderr",
     "output_type": "stream",
     "text": [
      "/tmp/ipykernel_30147/3514407175.py:1: DeprecationWarning: executable_path has been deprecated, please pass in a Service object\n",
      "  driver = webdriver.Chrome(\"/usr/bin/chromedriver\")\n"
     ]
    }
   ],
   "source": [
    "driver = webdriver.Chrome(\"/usr/bin/chromedriver\")\n",
    "driver.get(scholarLinks[4])\n",
    "time.sleep(5)\n",
    "# driver.find_element(By.XPATH, value='//*[@id=\"gs_res_ccl_mid\"]/div/div[2]/div[3]/a[2]').click()\n",
    "driver.find_element(By.LINK_TEXT, \"Cite\").click()\n",
    "\n",
    "\n",
    "\n",
    "# print(driver.current_url)\n",
    "# try:\n",
    "#     element = WebDriverWait(driver, 10).until(\n",
    "#         EC.presence_of_element_located((By.CLASS_NAME, \"gs_citr\"))\n",
    "#     )\n",
    "#     element.click()\n",
    "# except:\n",
    "#         driver.quit()\n"
   ]
  },
  {
   "cell_type": "code",
   "execution_count": 41,
   "metadata": {},
   "outputs": [
    {
     "name": "stderr",
     "output_type": "stream",
     "text": [
      "/tmp/ipykernel_30147/3389595816.py:3: DeprecationWarning: executable_path has been deprecated, please pass in a Service object\n",
      "  driver = webdriver.Chrome(\"/usr/bin/chromedriver\")  #replace the file path by the address of chromedriver in your system\n"
     ]
    },
    {
     "name": "stdout",
     "output_type": "stream",
     "text": [
      "2D metal carbides and nitrides (MXenes)\n"
     ]
    }
   ],
   "source": [
    "html = gettingUrl(driver.current_url)\n",
    "# print(driver.current_url)\n",
    "soup4 = BeautifulSoup(html, 'lxml')\n",
    "paperName = soup4.find('div',class_ = 'gs_citr')\n",
    "print(paperName.i.text)  #printing the name of the 5th paper."
   ]
  },
  {
   "cell_type": "code",
   "execution_count": null,
   "metadata": {},
   "outputs": [],
   "source": [
    "# url=input(\"Enter the url of the website: \")\n",
    "# name = re.findall('www\\.(.*?)\\.', url)\n",
    "# print(name)"
   ]
  },
  {
   "cell_type": "code",
   "execution_count": null,
   "metadata": {},
   "outputs": [],
   "source": [
    "# # finding out the publication house link of the paper from google scholar.\n",
    "# paperLink = soup4.find('h3',class_ = 'gs_rt')\n",
    "# print(paperLink.a['href'])"
   ]
  }
 ],
 "metadata": {
  "kernelspec": {
   "display_name": "Python 3.10.4 64-bit",
   "language": "python",
   "name": "python3"
  },
  "language_info": {
   "codemirror_mode": {
    "name": "ipython",
    "version": 3
   },
   "file_extension": ".py",
   "mimetype": "text/x-python",
   "name": "python",
   "nbconvert_exporter": "python",
   "pygments_lexer": "ipython3",
   "version": "3.10.4"
  },
  "orig_nbformat": 4,
  "vscode": {
   "interpreter": {
    "hash": "916dbcbb3f70747c44a77c7bcd40155683ae19c65e1c03b4aa3499c5328201f1"
   }
  }
 },
 "nbformat": 4,
 "nbformat_minor": 2
}
