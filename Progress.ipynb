{
 "cells": [
  {
   "cell_type": "code",
   "execution_count": null,
   "metadata": {},
   "outputs": [],
   "source": [
    "from bs4 import BeautifulSoup\n",
    "import requests\n",
    "from selenium import webdriver\n",
    "from selenium.webdriver.common.keys import Keys\n",
    "from selenium.webdriver.common.by import By\n",
    "from selenium.webdriver.support.ui import WebDriverWait\n",
    "from selenium.webdriver.support import expected_conditions as EC\n",
    "import time\n",
    "import re"
   ]
  },
  {
   "cell_type": "code",
   "execution_count": null,
   "metadata": {},
   "outputs": [],
   "source": [
    "def gettingUrl(url):\n",
    "\n",
    "    driver = webdriver.Chrome(\"C:\\\\Users\\\\rishu\\\\chromedriver\")   #replace the file path by the address of chromedriver in your system\n",
    "    driver.get(url)\n",
    "    time.sleep(5)\n",
    "    \n",
    "    html = driver.page_source\n",
    "    #this renders the JS code and stores all of this information in static HTMl code.\n",
    "    return html"
   ]
  },
  {
   "cell_type": "code",
   "execution_count": null,
   "metadata": {},
   "outputs": [],
   "source": [
    "#extracting data from acs nano site\n",
    "html = gettingUrl(\"https://pubs.acs.org/doi/10.1021/acsnano.9b06394\")"
   ]
  },
  {
   "cell_type": "code",
   "execution_count": null,
   "metadata": {},
   "outputs": [],
   "source": [
    "# #to find out the details of the research paper 5\n",
    "# soup = BeautifulSoup(html, 'lxml')\n",
    "# paperNames = soup.find_all('span',class_ = 'NLM_article-title')\n",
    "# for paper in paperNames:\n",
    "#     print(paper.text)"
   ]
  },
  {
   "cell_type": "code",
   "execution_count": null,
   "metadata": {},
   "outputs": [],
   "source": [
    "# for paper in paperNames:\n",
    "#     print(paper.text)"
   ]
  },
  {
   "cell_type": "code",
   "execution_count": null,
   "metadata": {},
   "outputs": [],
   "source": [
    "#finding out the number of times the research paper number 5 is mentioned in the text.\n",
    "soup_new = BeautifulSoup(html,'lxml')  #creating an instance of the BeautifulSoup library\n",
    "a_tags = soup_new.find('div', class_=\"article_content-left ui-resizable\")\n",
    "count = a_tags.find_all('a',class_=\"ref5\")\n",
    "print(len(count))\n",
    "\n",
    "# index = 0\n",
    "\n",
    "# for i in count:\n",
    "#     data  = i.text\n",
    "#     print(i)\n",
    "#     dataextract = re.findall('(\\(5)',data)\n",
    "#     if(dataextract):\n",
    "#         # print(dataextract)\n",
    "#         index = index + 1\n",
    "\n",
    "# # print(index)\n",
    "        \n",
    "\n"
   ]
  },
  {
   "cell_type": "code",
   "execution_count": null,
   "metadata": {},
   "outputs": [],
   "source": [
    "soup2 = BeautifulSoup(html,'lxml')  #creating an instance of the BeautifulSoup library\n",
    "links = soup2.find('div', class_=\"article_content-left ui-resizable\")\n",
    "paperLinksgoogleScholar=links.find_all('a',class_=\"google-scholar\")  # creating a list containing the google scholar links for all the reference papers."
   ]
  },
  {
   "cell_type": "code",
   "execution_count": null,
   "metadata": {},
   "outputs": [],
   "source": [
    "index=0\n",
    "scholarLinks=[]\n",
    "for link in paperLinksgoogleScholar:\n",
    "    scholarLinks.append(link['href'])   #A new list containing the google scholar links for only the first three papers is created. \n",
    "    index=index+1"
   ]
  },
  {
   "cell_type": "code",
   "execution_count": null,
   "metadata": {},
   "outputs": [],
   "source": [
    "for link in scholarLinks:\n",
    "    print(link)"
   ]
  },
  {
   "cell_type": "code",
   "execution_count": null,
   "metadata": {},
   "outputs": [],
   "source": [
    "# for link in paperLinks:\n",
    "#     driver.get(link)\n",
    "#     driver.find_element(By.XPATH, value='//*[@id=\"gs_res_ccl_mid\"]/div/div[2]/div[3]/a[2]').click()    \n",
    "    \n"
   ]
  },
  {
   "cell_type": "code",
   "execution_count": 45,
   "metadata": {},
   "outputs": [
    {
     "name": "stdout",
     "output_type": "stream",
     "text": [
      "B Anasori\n",
      "ÛG Gogotsi\n"
     ]
    }
   ],
   "source": [
    "html = gettingUrl(scholarLinks[4])\n",
    "soup3 = BeautifulSoup(html,'lxml')  #creating an instance of the BeautifulSoup library\n",
    "content = soup3.find('div', class_=\"gs_a\")\n",
    "authors = content.find_all('a')\n",
    "# print(authors)\n",
    "for author in authors:\n",
    "    print(author.text)"
   ]
  },
  {
   "cell_type": "code",
   "execution_count": 46,
   "metadata": {},
   "outputs": [
    {
     "name": "stdout",
     "output_type": "stream",
     "text": [
      "https://link.springer.com/content/pdf/10.1007/978-3-030-19026-2.pdf\n"
     ]
    }
   ],
   "source": [
    "#finding out the publication house link of the paper from google scholar.\n",
    "paperLink = soup3.find('h3',class_ = 'gs_rt')\n",
    "print(paperLink.a['href'])"
   ]
  },
  {
   "cell_type": "code",
   "execution_count": 44,
   "metadata": {},
   "outputs": [],
   "source": [
    "driver = webdriver.Chrome(\"C:\\\\Users\\\\rishu\\\\chromedriver\")\n",
    "driver.get(scholarLinks[4])\n",
    "# driver.find_element(By.XPATH, value='//*[@id=\"gs_res_ccl_mid\"]/div/div[2]/div[3]/a[2]').click()\n",
    "driver.find_element(By.LINK_TEXT, \"Cite\").click()\n",
    "\n",
    "\n",
    "time.sleep(5)\n",
    "# print(driver.current_url)\n",
    "# try:\n",
    "#     element = WebDriverWait(driver, 10).until(\n",
    "#         EC.presence_of_element_located((By.CLASS_NAME, \"gs_citr\"))\n",
    "#     )\n",
    "#     element.click()\n",
    "# except:\n",
    "#         driver.quit()\n"
   ]
  },
  {
   "cell_type": "code",
   "execution_count": null,
   "metadata": {},
   "outputs": [],
   "source": [
    "html = gettingUrl(driver.current_url)\n",
    "# print(driver.current_url)\n",
    "soup4 = BeautifulSoup(html, 'lxml')\n",
    "paperName = soup4.find('div',class_ = 'gs_citr')\n",
    "print(paperName.i.text)  #printing the name of the 5th paper."
   ]
  },
  {
   "cell_type": "code",
   "execution_count": null,
   "metadata": {},
   "outputs": [],
   "source": [
    "# # finding out the publication house link of the paper from google scholar.\n",
    "# paperLink = soup4.find('h3',class_ = 'gs_rt')\n",
    "# print(paperLink.a['href'])"
   ]
  }
 ],
 "metadata": {
  "kernelspec": {
   "display_name": "Python 3.9.12 ('base')",
   "language": "python",
   "name": "python3"
  },
  "language_info": {
   "codemirror_mode": {
    "name": "ipython",
    "version": 3
   },
   "file_extension": ".py",
   "mimetype": "text/x-python",
   "name": "python",
   "nbconvert_exporter": "python",
   "pygments_lexer": "ipython3",
   "version": "3.9.12"
  },
  "orig_nbformat": 4,
  "vscode": {
   "interpreter": {
    "hash": "0583c23a2589197f18883e3ee639618d340320ccc39649f7b161d96ac23f3177"
   }
  }
 },
 "nbformat": 4,
 "nbformat_minor": 2
}
